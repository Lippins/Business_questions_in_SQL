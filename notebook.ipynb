{
 "cells": [
  {
   "cell_type": "markdown",
   "id": "7d36fd5c-0238-4717-932d-060be6a86db2",
   "metadata": {
    "jp-MarkdownHeadingCollapsed": true,
    "tags": []
   },
   "source": [
    "# Answering Business Questions with SQL \n",
    "<img src='https://www.businessbacker.com/wp-content/uploads/2015/03/questionmark_blog_post_904x400.jpg' />\n",
    "\n",
    "As Business Analysts, we have been contacted by a fictional online music store called Chinook. The company wants our help with answering some business questions.\n",
    "\n",
    "They provided access to their [database](https://github.com/lerocha/chinook-database), which contains information about the artists, songs, and albums from the music store. Employee information, customer information, and the details of purchase transactions can also be found in the database. The entity relationship diagram below provides a structural overview of the Chinook database:\n",
    "\n",
    "<img src='https://s3.amazonaws.com/dq-content/189/chinook-schema.svg'\n",
    "     height= '500'\n",
    "     width='500'/>"
   ]
  }
 ],
 "metadata": {
  "kernelspec": {
   "display_name": "Python 3 (ipykernel)",
   "language": "python",
   "name": "python3"
  },
  "language_info": {
   "codemirror_mode": {
    "name": "ipython",
    "version": 3
   },
   "file_extension": ".py",
   "mimetype": "text/x-python",
   "name": "python",
   "nbconvert_exporter": "python",
   "pygments_lexer": "ipython3",
   "version": "3.9.7"
  }
 },
 "nbformat": 4,
 "nbformat_minor": 5
}
